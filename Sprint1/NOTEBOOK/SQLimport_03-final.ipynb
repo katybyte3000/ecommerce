{
 "cells": [
  {
   "cell_type": "markdown",
   "id": "47c0c1b0",
   "metadata": {},
   "source": [
    "# Ecomerce Project- Dataframe Design"
   ]
  },
  {
   "cell_type": "markdown",
   "id": "92b6e046",
   "metadata": {},
   "source": [
    "## Import an Clean the CSV"
   ]
  },
  {
   "cell_type": "code",
   "execution_count": 1,
   "id": "62e56105",
   "metadata": {},
   "outputs": [
    {
     "data": {
      "text/html": [
       "<div>\n",
       "<style scoped>\n",
       "    .dataframe tbody tr th:only-of-type {\n",
       "        vertical-align: middle;\n",
       "    }\n",
       "\n",
       "    .dataframe tbody tr th {\n",
       "        vertical-align: top;\n",
       "    }\n",
       "\n",
       "    .dataframe thead th {\n",
       "        text-align: right;\n",
       "    }\n",
       "</style>\n",
       "<table border=\"1\" class=\"dataframe\">\n",
       "  <thead>\n",
       "    <tr style=\"text-align: right;\">\n",
       "      <th></th>\n",
       "      <th>Row ID</th>\n",
       "      <th>Order ID</th>\n",
       "      <th>Order Date</th>\n",
       "      <th>Ship Date</th>\n",
       "      <th>Ship Mode</th>\n",
       "      <th>Customer ID</th>\n",
       "      <th>Customer Name</th>\n",
       "      <th>Segment</th>\n",
       "      <th>Country</th>\n",
       "      <th>City</th>\n",
       "      <th>...</th>\n",
       "      <th>Postal Code</th>\n",
       "      <th>Region</th>\n",
       "      <th>Product ID</th>\n",
       "      <th>Category</th>\n",
       "      <th>Sub-Category</th>\n",
       "      <th>Product Name</th>\n",
       "      <th>Sales</th>\n",
       "      <th>Quantity</th>\n",
       "      <th>Discount</th>\n",
       "      <th>Profit</th>\n",
       "    </tr>\n",
       "  </thead>\n",
       "  <tbody>\n",
       "    <tr>\n",
       "      <th>0</th>\n",
       "      <td>1</td>\n",
       "      <td>CA-2016-152156</td>\n",
       "      <td>11/8/2016</td>\n",
       "      <td>11/11/2016</td>\n",
       "      <td>Second Class</td>\n",
       "      <td>CG-12520</td>\n",
       "      <td>Claire Gute</td>\n",
       "      <td>Consumer</td>\n",
       "      <td>United States</td>\n",
       "      <td>Henderson</td>\n",
       "      <td>...</td>\n",
       "      <td>42420</td>\n",
       "      <td>South</td>\n",
       "      <td>FUR-BO-10001798</td>\n",
       "      <td>Furniture</td>\n",
       "      <td>Bookcases</td>\n",
       "      <td>Bush Somerset Collection Bookcase</td>\n",
       "      <td>261.96</td>\n",
       "      <td>2</td>\n",
       "      <td>0.0</td>\n",
       "      <td>41.9136</td>\n",
       "    </tr>\n",
       "  </tbody>\n",
       "</table>\n",
       "<p>1 rows × 21 columns</p>\n",
       "</div>"
      ],
      "text/plain": [
       "   Row ID        Order ID Order Date   Ship Date     Ship Mode Customer ID  \\\n",
       "0       1  CA-2016-152156  11/8/2016  11/11/2016  Second Class    CG-12520   \n",
       "\n",
       "  Customer Name   Segment        Country       City  ... Postal Code  Region  \\\n",
       "0   Claire Gute  Consumer  United States  Henderson  ...       42420   South   \n",
       "\n",
       "        Product ID   Category Sub-Category                       Product Name  \\\n",
       "0  FUR-BO-10001798  Furniture    Bookcases  Bush Somerset Collection Bookcase   \n",
       "\n",
       "    Sales  Quantity  Discount   Profit  \n",
       "0  261.96         2       0.0  41.9136  \n",
       "\n",
       "[1 rows x 21 columns]"
      ]
     },
     "execution_count": 1,
     "metadata": {},
     "output_type": "execute_result"
    }
   ],
   "source": [
    "import numpy as np\n",
    "import pandas as pd\n",
    "import matplotlib.pyplot as plt\n",
    "import seaborn as sns\n",
    "\n",
    "\n",
    "table = pd.read_csv(r\"C:\\Users\\cumdi\\Desktop\\Bootcamp Visual Studio\\Modul 2\\Sprint1\\DATA\\Sample-Superstore.csv\", sep =\",\", encoding=\"cp1252\")\n",
    "table.head(1)"
   ]
  },
  {
   "cell_type": "markdown",
   "id": "aa805fc3",
   "metadata": {},
   "source": [
    "## Add a numerical Column for Location"
   ]
  },
  {
   "cell_type": "code",
   "execution_count": 2,
   "id": "2e63bc90",
   "metadata": {},
   "outputs": [],
   "source": [
    "# Alle relevanten Spalten als Strings behandeln und kombinieren\n",
    "table[\"AddressCombi\"] = (\n",
    "    table[\"City\"].astype(str) + \" \" +\n",
    "    table[\"State\"].astype(str) + \" \" +\n",
    "    table[\"Region\"].astype(str) + \" \" +\n",
    "    table[\"Country\"].astype(str) + \" \" +\n",
    "    table[\"Postal Code\"].astype(str)\n",
    ")\n",
    "\n",
    "# Eindeutige Adresse-ID generieren\n",
    "table[\"AddressID\"] = table[\"AddressCombi\"].factorize()[0] + 1\n",
    "\n",
    "# Hilfsspalte entfernen\n",
    "table.drop(labels=\"AddressCombi\", axis=1, inplace=True)\n"
   ]
  },
  {
   "cell_type": "code",
   "execution_count": 3,
   "id": "4e475675",
   "metadata": {},
   "outputs": [
    {
     "data": {
      "text/html": [
       "<div>\n",
       "<style scoped>\n",
       "    .dataframe tbody tr th:only-of-type {\n",
       "        vertical-align: middle;\n",
       "    }\n",
       "\n",
       "    .dataframe tbody tr th {\n",
       "        vertical-align: top;\n",
       "    }\n",
       "\n",
       "    .dataframe thead th {\n",
       "        text-align: right;\n",
       "    }\n",
       "</style>\n",
       "<table border=\"1\" class=\"dataframe\">\n",
       "  <thead>\n",
       "    <tr style=\"text-align: right;\">\n",
       "      <th></th>\n",
       "      <th>Row ID</th>\n",
       "      <th>Order ID</th>\n",
       "      <th>Order Date</th>\n",
       "      <th>Ship Date</th>\n",
       "      <th>Ship Mode</th>\n",
       "      <th>Customer ID</th>\n",
       "      <th>Customer Name</th>\n",
       "      <th>Segment</th>\n",
       "      <th>Country</th>\n",
       "      <th>City</th>\n",
       "      <th>...</th>\n",
       "      <th>Region</th>\n",
       "      <th>Product ID</th>\n",
       "      <th>Category</th>\n",
       "      <th>Sub-Category</th>\n",
       "      <th>Product Name</th>\n",
       "      <th>Sales</th>\n",
       "      <th>Quantity</th>\n",
       "      <th>Discount</th>\n",
       "      <th>Profit</th>\n",
       "      <th>AddressID</th>\n",
       "    </tr>\n",
       "  </thead>\n",
       "  <tbody>\n",
       "    <tr>\n",
       "      <th>0</th>\n",
       "      <td>1</td>\n",
       "      <td>CA-2016-152156</td>\n",
       "      <td>11/8/2016</td>\n",
       "      <td>11/11/2016</td>\n",
       "      <td>Second Class</td>\n",
       "      <td>CG-12520</td>\n",
       "      <td>Claire Gute</td>\n",
       "      <td>Consumer</td>\n",
       "      <td>United States</td>\n",
       "      <td>Henderson</td>\n",
       "      <td>...</td>\n",
       "      <td>South</td>\n",
       "      <td>FUR-BO-10001798</td>\n",
       "      <td>Furniture</td>\n",
       "      <td>Bookcases</td>\n",
       "      <td>Bush Somerset Collection Bookcase</td>\n",
       "      <td>261.96</td>\n",
       "      <td>2</td>\n",
       "      <td>0.0</td>\n",
       "      <td>41.9136</td>\n",
       "      <td>1</td>\n",
       "    </tr>\n",
       "  </tbody>\n",
       "</table>\n",
       "<p>1 rows × 22 columns</p>\n",
       "</div>"
      ],
      "text/plain": [
       "   Row ID        Order ID Order Date   Ship Date     Ship Mode Customer ID  \\\n",
       "0       1  CA-2016-152156  11/8/2016  11/11/2016  Second Class    CG-12520   \n",
       "\n",
       "  Customer Name   Segment        Country       City  ... Region  \\\n",
       "0   Claire Gute  Consumer  United States  Henderson  ...  South   \n",
       "\n",
       "        Product ID   Category Sub-Category                       Product Name  \\\n",
       "0  FUR-BO-10001798  Furniture    Bookcases  Bush Somerset Collection Bookcase   \n",
       "\n",
       "    Sales Quantity  Discount   Profit  AddressID  \n",
       "0  261.96        2       0.0  41.9136          1  \n",
       "\n",
       "[1 rows x 22 columns]"
      ]
     },
     "execution_count": 3,
     "metadata": {},
     "output_type": "execute_result"
    }
   ],
   "source": [
    "table.head(1)"
   ]
  },
  {
   "cell_type": "markdown",
   "id": "2cc555f6",
   "metadata": {},
   "source": [
    "## Umbennenen und Datacleaning"
   ]
  },
  {
   "cell_type": "code",
   "execution_count": 4,
   "id": "c0f9c0b0",
   "metadata": {},
   "outputs": [],
   "source": [
    "table = table.apply(lambda x: x.str.strip() if x.dtype == \"object\" else x)"
   ]
  },
  {
   "cell_type": "code",
   "execution_count": 5,
   "id": "9457d0af",
   "metadata": {},
   "outputs": [],
   "source": [
    "table = table.apply(lambda x: x.str.lower() if x.dtype == \"object\" else x)"
   ]
  },
  {
   "cell_type": "code",
   "execution_count": 6,
   "id": "2b940fd8",
   "metadata": {},
   "outputs": [],
   "source": [
    "table.columns = table.columns.str.lower().str.replace(' ', '_')"
   ]
  },
  {
   "cell_type": "code",
   "execution_count": 7,
   "id": "e6ce611a",
   "metadata": {},
   "outputs": [],
   "source": [
    "table = table.rename(columns={'sub-category': 'sub_category'})"
   ]
  },
  {
   "cell_type": "code",
   "execution_count": 8,
   "id": "4c96c106",
   "metadata": {},
   "outputs": [
    {
     "data": {
      "text/html": [
       "<div>\n",
       "<style scoped>\n",
       "    .dataframe tbody tr th:only-of-type {\n",
       "        vertical-align: middle;\n",
       "    }\n",
       "\n",
       "    .dataframe tbody tr th {\n",
       "        vertical-align: top;\n",
       "    }\n",
       "\n",
       "    .dataframe thead th {\n",
       "        text-align: right;\n",
       "    }\n",
       "</style>\n",
       "<table border=\"1\" class=\"dataframe\">\n",
       "  <thead>\n",
       "    <tr style=\"text-align: right;\">\n",
       "      <th></th>\n",
       "      <th>row_id</th>\n",
       "      <th>order_id</th>\n",
       "      <th>order_date</th>\n",
       "      <th>ship_date</th>\n",
       "      <th>ship_mode</th>\n",
       "      <th>customer_id</th>\n",
       "      <th>customer_name</th>\n",
       "      <th>segment</th>\n",
       "      <th>country</th>\n",
       "      <th>city</th>\n",
       "      <th>...</th>\n",
       "      <th>region</th>\n",
       "      <th>product_id</th>\n",
       "      <th>category</th>\n",
       "      <th>sub_category</th>\n",
       "      <th>product_name</th>\n",
       "      <th>sales</th>\n",
       "      <th>quantity</th>\n",
       "      <th>discount</th>\n",
       "      <th>profit</th>\n",
       "      <th>addressid</th>\n",
       "    </tr>\n",
       "  </thead>\n",
       "  <tbody>\n",
       "    <tr>\n",
       "      <th>9993</th>\n",
       "      <td>9994</td>\n",
       "      <td>ca-2017-119914</td>\n",
       "      <td>5/4/2017</td>\n",
       "      <td>5/9/2017</td>\n",
       "      <td>second class</td>\n",
       "      <td>cc-12220</td>\n",
       "      <td>chris cortes</td>\n",
       "      <td>consumer</td>\n",
       "      <td>united states</td>\n",
       "      <td>westminster</td>\n",
       "      <td>...</td>\n",
       "      <td>west</td>\n",
       "      <td>off-ap-10002684</td>\n",
       "      <td>office supplies</td>\n",
       "      <td>appliances</td>\n",
       "      <td>acco 7-outlet masterpiece power center, wihtou...</td>\n",
       "      <td>243.16</td>\n",
       "      <td>2</td>\n",
       "      <td>0.0</td>\n",
       "      <td>72.948</td>\n",
       "      <td>280</td>\n",
       "    </tr>\n",
       "  </tbody>\n",
       "</table>\n",
       "<p>1 rows × 22 columns</p>\n",
       "</div>"
      ],
      "text/plain": [
       "      row_id        order_id order_date ship_date     ship_mode customer_id  \\\n",
       "9993    9994  ca-2017-119914   5/4/2017  5/9/2017  second class    cc-12220   \n",
       "\n",
       "     customer_name   segment        country         city  ... region  \\\n",
       "9993  chris cortes  consumer  united states  westminster  ...   west   \n",
       "\n",
       "           product_id         category sub_category  \\\n",
       "9993  off-ap-10002684  office supplies   appliances   \n",
       "\n",
       "                                           product_name   sales quantity  \\\n",
       "9993  acco 7-outlet masterpiece power center, wihtou...  243.16        2   \n",
       "\n",
       "      discount  profit  addressid  \n",
       "9993       0.0  72.948        280  \n",
       "\n",
       "[1 rows x 22 columns]"
      ]
     },
     "execution_count": 8,
     "metadata": {},
     "output_type": "execute_result"
    }
   ],
   "source": [
    "table.tail(1)"
   ]
  },
  {
   "cell_type": "code",
   "execution_count": 9,
   "id": "6882a4a8",
   "metadata": {},
   "outputs": [
    {
     "data": {
      "text/html": [
       "<div>\n",
       "<style scoped>\n",
       "    .dataframe tbody tr th:only-of-type {\n",
       "        vertical-align: middle;\n",
       "    }\n",
       "\n",
       "    .dataframe tbody tr th {\n",
       "        vertical-align: top;\n",
       "    }\n",
       "\n",
       "    .dataframe thead th {\n",
       "        text-align: right;\n",
       "    }\n",
       "</style>\n",
       "<table border=\"1\" class=\"dataframe\">\n",
       "  <thead>\n",
       "    <tr style=\"text-align: right;\">\n",
       "      <th></th>\n",
       "      <th>row_id</th>\n",
       "      <th>order_id</th>\n",
       "      <th>order_date</th>\n",
       "      <th>ship_date</th>\n",
       "      <th>ship_mode</th>\n",
       "      <th>customer_id</th>\n",
       "      <th>customer_name</th>\n",
       "      <th>segment</th>\n",
       "      <th>country</th>\n",
       "      <th>city</th>\n",
       "      <th>...</th>\n",
       "      <th>region</th>\n",
       "      <th>product_id</th>\n",
       "      <th>category</th>\n",
       "      <th>sub_category</th>\n",
       "      <th>product_name</th>\n",
       "      <th>sales</th>\n",
       "      <th>quantity</th>\n",
       "      <th>discount</th>\n",
       "      <th>profit</th>\n",
       "      <th>addressid</th>\n",
       "    </tr>\n",
       "  </thead>\n",
       "  <tbody>\n",
       "    <tr>\n",
       "      <th>0</th>\n",
       "      <td>1</td>\n",
       "      <td>ca-2016-152156</td>\n",
       "      <td>11/8/2016</td>\n",
       "      <td>11/11/2016</td>\n",
       "      <td>second class</td>\n",
       "      <td>cg-12520</td>\n",
       "      <td>claire gute</td>\n",
       "      <td>consumer</td>\n",
       "      <td>united states</td>\n",
       "      <td>henderson</td>\n",
       "      <td>...</td>\n",
       "      <td>south</td>\n",
       "      <td>fur-bo-10001798</td>\n",
       "      <td>furniture</td>\n",
       "      <td>bookcases</td>\n",
       "      <td>bush somerset collection bookcase</td>\n",
       "      <td>261.96</td>\n",
       "      <td>2</td>\n",
       "      <td>0.0</td>\n",
       "      <td>41.9136</td>\n",
       "      <td>1</td>\n",
       "    </tr>\n",
       "    <tr>\n",
       "      <th>1</th>\n",
       "      <td>2</td>\n",
       "      <td>ca-2016-152156</td>\n",
       "      <td>11/8/2016</td>\n",
       "      <td>11/11/2016</td>\n",
       "      <td>second class</td>\n",
       "      <td>cg-12520</td>\n",
       "      <td>claire gute</td>\n",
       "      <td>consumer</td>\n",
       "      <td>united states</td>\n",
       "      <td>henderson</td>\n",
       "      <td>...</td>\n",
       "      <td>south</td>\n",
       "      <td>fur-ch-10000454</td>\n",
       "      <td>furniture</td>\n",
       "      <td>chairs</td>\n",
       "      <td>hon deluxe fabric upholstered stacking chairs,...</td>\n",
       "      <td>731.94</td>\n",
       "      <td>3</td>\n",
       "      <td>0.0</td>\n",
       "      <td>219.5820</td>\n",
       "      <td>1</td>\n",
       "    </tr>\n",
       "  </tbody>\n",
       "</table>\n",
       "<p>2 rows × 22 columns</p>\n",
       "</div>"
      ],
      "text/plain": [
       "   row_id        order_id order_date   ship_date     ship_mode customer_id  \\\n",
       "0       1  ca-2016-152156  11/8/2016  11/11/2016  second class    cg-12520   \n",
       "1       2  ca-2016-152156  11/8/2016  11/11/2016  second class    cg-12520   \n",
       "\n",
       "  customer_name   segment        country       city  ... region  \\\n",
       "0   claire gute  consumer  united states  henderson  ...  south   \n",
       "1   claire gute  consumer  united states  henderson  ...  south   \n",
       "\n",
       "        product_id   category sub_category  \\\n",
       "0  fur-bo-10001798  furniture    bookcases   \n",
       "1  fur-ch-10000454  furniture       chairs   \n",
       "\n",
       "                                        product_name   sales quantity  \\\n",
       "0                  bush somerset collection bookcase  261.96        2   \n",
       "1  hon deluxe fabric upholstered stacking chairs,...  731.94        3   \n",
       "\n",
       "   discount    profit  addressid  \n",
       "0       0.0   41.9136          1  \n",
       "1       0.0  219.5820          1  \n",
       "\n",
       "[2 rows x 22 columns]"
      ]
     },
     "execution_count": 9,
     "metadata": {},
     "output_type": "execute_result"
    }
   ],
   "source": [
    "table.head(2)"
   ]
  },
  {
   "cell_type": "code",
   "execution_count": 10,
   "id": "b8778b5c",
   "metadata": {},
   "outputs": [],
   "source": [
    "#duplicates = table[table.duplicated(subset=[\"customer_name\"])]\n",
    "#print(duplicates)"
   ]
  },
  {
   "cell_type": "code",
   "execution_count": 11,
   "id": "2c1f4786",
   "metadata": {},
   "outputs": [],
   "source": [
    "#duplicates = table[table.duplicated(subset=[\"customer_name\"])]\n",
    "#print(duplicates)"
   ]
  },
  {
   "cell_type": "code",
   "execution_count": 12,
   "id": "7e12d484",
   "metadata": {},
   "outputs": [
    {
     "name": "stdout",
     "output_type": "stream",
     "text": [
      "Anzahl der Duplikate: 0\n",
      "Anzahl der Duplikate nach bestimmten Spalten: 9201\n"
     ]
    }
   ],
   "source": [
    "# Anzahl der doppelten Zeilen (nach allen Spalten)\n",
    "num_duplicates = table.duplicated().sum()\n",
    "print(f\"Anzahl der Duplikate: {num_duplicates}\")\n",
    "\n",
    "# Anzahl der doppelten Zeilen (nur nach bestimmten Spalten)\n",
    "num_duplicates = table.duplicated(subset=[\"customer_name\"]).sum()\n",
    "print(f\"Anzahl der Duplikate nach bestimmten Spalten: {num_duplicates}\")"
   ]
  },
  {
   "cell_type": "code",
   "execution_count": 13,
   "id": "60f4d11e",
   "metadata": {},
   "outputs": [
    {
     "name": "stdout",
     "output_type": "stream",
     "text": [
      "['row_id', 'order_id', 'order_date', 'ship_date', 'ship_mode', 'customer_id', 'customer_name', 'segment', 'country', 'city', 'state', 'postal_code', 'region', 'product_id', 'category', 'sub_category', 'product_name', 'sales', 'quantity', 'discount', 'profit', 'addressid']\n"
     ]
    }
   ],
   "source": [
    "column_names = list(table.columns)\n",
    "print(column_names)"
   ]
  },
  {
   "cell_type": "code",
   "execution_count": 14,
   "id": "a6cb8efe",
   "metadata": {},
   "outputs": [],
   "source": [
    "#table.describe()"
   ]
  },
  {
   "cell_type": "code",
   "execution_count": 15,
   "id": "96f0901f",
   "metadata": {},
   "outputs": [
    {
     "data": {
      "text/html": [
       "<div>\n",
       "<style scoped>\n",
       "    .dataframe tbody tr th:only-of-type {\n",
       "        vertical-align: middle;\n",
       "    }\n",
       "\n",
       "    .dataframe tbody tr th {\n",
       "        vertical-align: top;\n",
       "    }\n",
       "\n",
       "    .dataframe thead th {\n",
       "        text-align: right;\n",
       "    }\n",
       "</style>\n",
       "<table border=\"1\" class=\"dataframe\">\n",
       "  <thead>\n",
       "    <tr style=\"text-align: right;\">\n",
       "      <th></th>\n",
       "      <th>row_id</th>\n",
       "      <th>order_id</th>\n",
       "      <th>order_date</th>\n",
       "      <th>ship_date</th>\n",
       "      <th>ship_mode</th>\n",
       "      <th>customer_id</th>\n",
       "      <th>customer_name</th>\n",
       "      <th>segment</th>\n",
       "      <th>country</th>\n",
       "      <th>city</th>\n",
       "      <th>...</th>\n",
       "      <th>region</th>\n",
       "      <th>product_id</th>\n",
       "      <th>category</th>\n",
       "      <th>sub_category</th>\n",
       "      <th>product_name</th>\n",
       "      <th>sales</th>\n",
       "      <th>quantity</th>\n",
       "      <th>discount</th>\n",
       "      <th>profit</th>\n",
       "      <th>addressid</th>\n",
       "    </tr>\n",
       "  </thead>\n",
       "  <tbody>\n",
       "    <tr>\n",
       "      <th>0</th>\n",
       "      <td>1</td>\n",
       "      <td>ca-2016-152156</td>\n",
       "      <td>11/8/2016</td>\n",
       "      <td>11/11/2016</td>\n",
       "      <td>second class</td>\n",
       "      <td>cg-12520</td>\n",
       "      <td>claire gute</td>\n",
       "      <td>consumer</td>\n",
       "      <td>united states</td>\n",
       "      <td>henderson</td>\n",
       "      <td>...</td>\n",
       "      <td>south</td>\n",
       "      <td>fur-bo-10001798</td>\n",
       "      <td>furniture</td>\n",
       "      <td>bookcases</td>\n",
       "      <td>bush somerset collection bookcase</td>\n",
       "      <td>261.96</td>\n",
       "      <td>2</td>\n",
       "      <td>0.0</td>\n",
       "      <td>41.9136</td>\n",
       "      <td>1</td>\n",
       "    </tr>\n",
       "  </tbody>\n",
       "</table>\n",
       "<p>1 rows × 22 columns</p>\n",
       "</div>"
      ],
      "text/plain": [
       "   row_id        order_id order_date   ship_date     ship_mode customer_id  \\\n",
       "0       1  ca-2016-152156  11/8/2016  11/11/2016  second class    cg-12520   \n",
       "\n",
       "  customer_name   segment        country       city  ... region  \\\n",
       "0   claire gute  consumer  united states  henderson  ...  south   \n",
       "\n",
       "        product_id   category sub_category                       product_name  \\\n",
       "0  fur-bo-10001798  furniture    bookcases  bush somerset collection bookcase   \n",
       "\n",
       "    sales quantity  discount   profit  addressid  \n",
       "0  261.96        2       0.0  41.9136          1  \n",
       "\n",
       "[1 rows x 22 columns]"
      ]
     },
     "execution_count": 15,
     "metadata": {},
     "output_type": "execute_result"
    }
   ],
   "source": [
    "table.head(1)"
   ]
  },
  {
   "cell_type": "code",
   "execution_count": 16,
   "id": "ccb35e3d",
   "metadata": {},
   "outputs": [
    {
     "name": "stdout",
     "output_type": "stream",
     "text": [
      "<class 'pandas.core.frame.DataFrame'>\n",
      "RangeIndex: 9994 entries, 0 to 9993\n",
      "Data columns (total 22 columns):\n",
      " #   Column         Non-Null Count  Dtype  \n",
      "---  ------         --------------  -----  \n",
      " 0   row_id         9994 non-null   int64  \n",
      " 1   order_id       9994 non-null   object \n",
      " 2   order_date     9994 non-null   object \n",
      " 3   ship_date      9994 non-null   object \n",
      " 4   ship_mode      9994 non-null   object \n",
      " 5   customer_id    9994 non-null   object \n",
      " 6   customer_name  9994 non-null   object \n",
      " 7   segment        9994 non-null   object \n",
      " 8   country        9994 non-null   object \n",
      " 9   city           9994 non-null   object \n",
      " 10  state          9994 non-null   object \n",
      " 11  postal_code    9994 non-null   int64  \n",
      " 12  region         9994 non-null   object \n",
      " 13  product_id     9994 non-null   object \n",
      " 14  category       9994 non-null   object \n",
      " 15  sub_category   9994 non-null   object \n",
      " 16  product_name   9994 non-null   object \n",
      " 17  sales          9994 non-null   float64\n",
      " 18  quantity       9994 non-null   int64  \n",
      " 19  discount       9994 non-null   float64\n",
      " 20  profit         9994 non-null   float64\n",
      " 21  addressid      9994 non-null   int64  \n",
      "dtypes: float64(3), int64(4), object(15)\n",
      "memory usage: 1.7+ MB\n"
     ]
    }
   ],
   "source": [
    "table.info()"
   ]
  },
  {
   "cell_type": "markdown",
   "id": "66258c2b",
   "metadata": {},
   "source": [
    "# Conection with SQL"
   ]
  },
  {
   "cell_type": "code",
   "execution_count": 17,
   "id": "78493981",
   "metadata": {},
   "outputs": [],
   "source": [
    "import sqlite3\n"
   ]
  },
  {
   "cell_type": "code",
   "execution_count": 18,
   "id": "0eaa2878",
   "metadata": {},
   "outputs": [],
   "source": [
    "conn = sqlite3.connect(\"edata.db\") #connected zur Datenbank ecommerce\n",
    "cur = conn.cursor()\n"
   ]
  },
  {
   "cell_type": "markdown",
   "id": "2f41b6c6",
   "metadata": {},
   "source": [
    "#https://colab.research.google.com/drive/1I2RtqUwKxVUFTIX5uoghW4TY1sbhUy7q#scrollTo=378797f2"
   ]
  },
  {
   "cell_type": "markdown",
   "id": "7c206536",
   "metadata": {},
   "source": [
    "Eine Location ID hinzufügen und sie dann f+r Location udn Transaction nutzen"
   ]
  },
  {
   "cell_type": "code",
   "execution_count": null,
   "id": "fbd31385",
   "metadata": {},
   "outputs": [],
   "source": []
  },
  {
   "cell_type": "markdown",
   "id": "50c6fd3a",
   "metadata": {},
   "source": [
    "# Creat Teables in SQL"
   ]
  },
  {
   "cell_type": "markdown",
   "id": "0db64796",
   "metadata": {},
   "source": [
    "### Create Customer Table"
   ]
  },
  {
   "cell_type": "code",
   "execution_count": null,
   "id": "2f2c4134",
   "metadata": {},
   "outputs": [],
   "source": []
  },
  {
   "cell_type": "code",
   "execution_count": null,
   "id": "3a717522",
   "metadata": {},
   "outputs": [],
   "source": []
  },
  {
   "cell_type": "markdown",
   "id": "f6a37acd",
   "metadata": {},
   "source": [
    "Country ID noch schiwerig"
   ]
  },
  {
   "cell_type": "code",
   "execution_count": 19,
   "id": "91ce186d",
   "metadata": {},
   "outputs": [],
   "source": [
    "#location = table[['customer_id', 'city', 'country','state', 'country-id']].drop_duplicates()"
   ]
  },
  {
   "cell_type": "markdown",
   "id": "69e01ba5",
   "metadata": {},
   "source": [
    "### Create Location/Shipping Table"
   ]
  },
  {
   "cell_type": "code",
   "execution_count": 20,
   "id": "734207d2",
   "metadata": {},
   "outputs": [],
   "source": [
    "\n",
    "\n",
    "\n",
    "with sqlite3.connect(\"edata.db\") as conn:\n",
    "    cur = conn.cursor()\n",
    "    cur.execute(\"\"\"\n",
    "        CREATE TABLE IF NOT EXISTS Location (\n",
    "            addressid TEXT PRIMARY KEY,\n",
    "            country TEXT,\n",
    "            state TEXT,\n",
    "            region TEXT,\n",
    "            postal_code INTEGER,\n",
    "            city TEXT\n",
    "        );\n",
    "    \"\"\")\n",
    "    conn.commit()"
   ]
  },
  {
   "cell_type": "code",
   "execution_count": 21,
   "id": "504079ec",
   "metadata": {},
   "outputs": [],
   "source": [
    "location_df = table[['addressid', 'country', 'state','region', 'postal_code', 'city']].drop_duplicates()"
   ]
  },
  {
   "cell_type": "code",
   "execution_count": 22,
   "id": "ab097b7d",
   "metadata": {},
   "outputs": [],
   "source": [
    "location_df.to_csv('location.csv', index=False, encoding='utf-8')"
   ]
  },
  {
   "cell_type": "code",
   "execution_count": 23,
   "id": "d31385d7",
   "metadata": {},
   "outputs": [
    {
     "data": {
      "text/html": [
       "<div>\n",
       "<style scoped>\n",
       "    .dataframe tbody tr th:only-of-type {\n",
       "        vertical-align: middle;\n",
       "    }\n",
       "\n",
       "    .dataframe tbody tr th {\n",
       "        vertical-align: top;\n",
       "    }\n",
       "\n",
       "    .dataframe thead th {\n",
       "        text-align: right;\n",
       "    }\n",
       "</style>\n",
       "<table border=\"1\" class=\"dataframe\">\n",
       "  <thead>\n",
       "    <tr style=\"text-align: right;\">\n",
       "      <th></th>\n",
       "      <th>addressid</th>\n",
       "      <th>country</th>\n",
       "      <th>state</th>\n",
       "      <th>region</th>\n",
       "      <th>postal_code</th>\n",
       "      <th>city</th>\n",
       "    </tr>\n",
       "  </thead>\n",
       "  <tbody>\n",
       "    <tr>\n",
       "      <th>0</th>\n",
       "      <td>1</td>\n",
       "      <td>united states</td>\n",
       "      <td>kentucky</td>\n",
       "      <td>south</td>\n",
       "      <td>42420</td>\n",
       "      <td>henderson</td>\n",
       "    </tr>\n",
       "    <tr>\n",
       "      <th>2</th>\n",
       "      <td>2</td>\n",
       "      <td>united states</td>\n",
       "      <td>california</td>\n",
       "      <td>west</td>\n",
       "      <td>90036</td>\n",
       "      <td>los angeles</td>\n",
       "    </tr>\n",
       "  </tbody>\n",
       "</table>\n",
       "</div>"
      ],
      "text/plain": [
       "   addressid        country       state region  postal_code         city\n",
       "0          1  united states    kentucky  south        42420    henderson\n",
       "2          2  united states  california   west        90036  los angeles"
      ]
     },
     "execution_count": 23,
     "metadata": {},
     "output_type": "execute_result"
    }
   ],
   "source": [
    "location_df.head(2)"
   ]
  },
  {
   "cell_type": "code",
   "execution_count": 25,
   "id": "24f729c0",
   "metadata": {},
   "outputs": [],
   "source": [
    "\n",
    "\n",
    "with sqlite3.connect(\"edata.db\") as conn:\n",
    "    cur = conn.cursor()\n",
    "    for _, row in location_df.iterrows():\n",
    "        cur.execute(\"\"\"\n",
    "            INSERT OR IGNORE INTO Location (addressid, country, state, region, postal_code, city)\n",
    "            VALUES (?, ?, ?, ?, ?, ?)\n",
    "        \"\"\", (\n",
    "            row['addressid'],\n",
    "            row['country'],\n",
    "            row['state'],\n",
    "            row['region'],\n",
    "            row['postal_code'],\n",
    "            row['city']\n",
    "        ))\n",
    "    conn.commit()"
   ]
  },
  {
   "cell_type": "code",
   "execution_count": null,
   "id": "bf097b34",
   "metadata": {},
   "outputs": [],
   "source": [
    "# Fehler: zu viele Argumente\n",
    "#customers_df[['customer_firstname', 'customer_surname']] = customers_df['customer_name'].str.split(' ', 1, expand=True)\n"
   ]
  },
  {
   "cell_type": "code",
   "execution_count": null,
   "id": "1ac56f1b",
   "metadata": {},
   "outputs": [],
   "source": [
    "\n"
   ]
  },
  {
   "cell_type": "markdown",
   "id": "cf001099",
   "metadata": {},
   "source": []
  },
  {
   "cell_type": "markdown",
   "id": "e68d9d4b",
   "metadata": {},
   "source": [
    "## Customer Table"
   ]
  },
  {
   "cell_type": "code",
   "execution_count": 26,
   "id": "c3d2f854",
   "metadata": {},
   "outputs": [],
   "source": [
    "customers_df = table[['customer_id', 'customer_name', 'segment']].drop_duplicates(subset='customer_id')\n",
    "\n",
    "# Sicherstellen, dass customer_name, customer_firstname, customer_surname und segment als String gespeichert sind\n",
    "customers_df['customer_name'] = customers_df['customer_name'].astype(str)\n",
    "customers_df['segment'] = customers_df['segment'].astype(str)"
   ]
  },
  {
   "cell_type": "code",
   "execution_count": 27,
   "id": "232c02ca",
   "metadata": {},
   "outputs": [
    {
     "data": {
      "text/plain": [
       "<sqlite3.Cursor at 0x1bfb7751fc0>"
      ]
     },
     "execution_count": 27,
     "metadata": {},
     "output_type": "execute_result"
    }
   ],
   "source": [
    "\n",
    "# Verbindung zur Datenbank\n",
    "conn = sqlite3.connect(\"edata.db\") #connected zur Datenbank ecommerce\n",
    "cur = conn.cursor()\n",
    "\n",
    "\n",
    "create_customer_table = \"\"\"\n",
    "CREATE TABLE IF NOT EXISTS Customer (\n",
    "    customer_id TEXT PRIMARY KEY,\n",
    "    customer_name TEXT NOT NULL,\n",
    "    segment TEXT\n",
    ");\n",
    "\"\"\"\n",
    "\n",
    "cur.execute(create_customer_table)\n"
   ]
  },
  {
   "cell_type": "code",
   "execution_count": 28,
   "id": "94832cd9",
   "metadata": {},
   "outputs": [],
   "source": [
    "\n",
    "for index, row in customers_df.iterrows():\n",
    "    cur.execute(\"\"\"\n",
    "    INSERT OR IGNORE INTO Customer (customer_id, customer_name, segment)\n",
    "    VALUES (?, ?, ?)\n",
    "    \"\"\", (row['customer_id'], row['customer_name'], row['segment']))\n",
    "\n",
    "# Änderungen speichern\n",
    "conn.commit()\n",
    "\n",
    "# fehler weil es die Daten schon gibt"
   ]
  },
  {
   "cell_type": "code",
   "execution_count": 29,
   "id": "6c5fbbe4",
   "metadata": {},
   "outputs": [],
   "source": [
    "conn.commit()\n",
    "conn.close()"
   ]
  },
  {
   "cell_type": "code",
   "execution_count": 30,
   "id": "97397422",
   "metadata": {},
   "outputs": [],
   "source": [
    "customers_df.to_csv('customer.csv', index=False, encoding='utf-8')"
   ]
  },
  {
   "cell_type": "markdown",
   "id": "99360239",
   "metadata": {},
   "source": [
    "## Products Table"
   ]
  },
  {
   "cell_type": "code",
   "execution_count": 31,
   "id": "dea2d144",
   "metadata": {},
   "outputs": [],
   "source": [
    "#products_df = table[['product_id', 'product_name', 'category', 'sub-category']].drop_duplicates()"
   ]
  },
  {
   "cell_type": "code",
   "execution_count": 32,
   "id": "e2921dc0",
   "metadata": {},
   "outputs": [
    {
     "data": {
      "text/plain": [
       "<sqlite3.Cursor at 0x1bfb7753240>"
      ]
     },
     "execution_count": 32,
     "metadata": {},
     "output_type": "execute_result"
    }
   ],
   "source": [
    "\n",
    "\n",
    "# Verbindung zur Datenbank\n",
    "conn = sqlite3.connect(\"edata.db\") #connected zur Datenbank ecommerce\n",
    "cur = conn.cursor()\n",
    "\n",
    "create_products_table = \"\"\"\n",
    "CREATE TABLE IF NOT EXISTS Products (\n",
    "    product_id TEXT PRIMARY KEY,\n",
    "    product_name TEXT NOT NULL,\n",
    "    category TEXT,\n",
    "    sub_category TEXT\n",
    ");\n",
    "\"\"\"\n",
    "\n",
    "cur.execute(create_products_table)"
   ]
  },
  {
   "cell_type": "code",
   "execution_count": 33,
   "id": "882d633e",
   "metadata": {},
   "outputs": [],
   "source": [
    "try:\n",
    "    conn.commit()\n",
    "    conn.close()\n",
    "except:\n",
    "    pass"
   ]
  },
  {
   "cell_type": "code",
   "execution_count": 34,
   "id": "18bb8ccd",
   "metadata": {},
   "outputs": [],
   "source": [
    "\n",
    "\n",
    "\n",
    "# Verbindung zur bestehenden Datenbank\n",
    "conn = sqlite3.connect(\"edata.db\")\n",
    "cur = conn.cursor()\n",
    "\n",
    "# Nur eindeutige, nicht-leere Länder aus dem DataFrame holen\n",
    "products_df = table[['product_id', 'product_name', 'category', 'sub_category']].drop_duplicates()\n",
    "\n",
    "# In Country-Tabelle einfügen (nur wenn noch nicht vorhanden)\n",
    "for index, row in products_df.iterrows():\n",
    "  cur.execute(\"\"\"\n",
    "INSERT OR IGNORE INTO Products (product_id, product_name, category, sub_category)\n",
    "VALUES (?, ?, ?, ?)\n",
    "\"\"\", (row['product_id'], row['product_name'], row['category'], row['sub_category']))\n",
    "# Änderungen speichern\n"
   ]
  },
  {
   "cell_type": "code",
   "execution_count": 35,
   "id": "b1d94489",
   "metadata": {},
   "outputs": [],
   "source": [
    "conn.commit()\n",
    "conn.close()"
   ]
  },
  {
   "cell_type": "code",
   "execution_count": 36,
   "id": "bcc73b6c",
   "metadata": {},
   "outputs": [
    {
     "data": {
      "text/html": [
       "<div>\n",
       "<style scoped>\n",
       "    .dataframe tbody tr th:only-of-type {\n",
       "        vertical-align: middle;\n",
       "    }\n",
       "\n",
       "    .dataframe tbody tr th {\n",
       "        vertical-align: top;\n",
       "    }\n",
       "\n",
       "    .dataframe thead th {\n",
       "        text-align: right;\n",
       "    }\n",
       "</style>\n",
       "<table border=\"1\" class=\"dataframe\">\n",
       "  <thead>\n",
       "    <tr style=\"text-align: right;\">\n",
       "      <th></th>\n",
       "      <th>row_id</th>\n",
       "      <th>order_id</th>\n",
       "      <th>order_date</th>\n",
       "      <th>ship_date</th>\n",
       "      <th>ship_mode</th>\n",
       "      <th>customer_id</th>\n",
       "      <th>customer_name</th>\n",
       "      <th>segment</th>\n",
       "      <th>country</th>\n",
       "      <th>city</th>\n",
       "      <th>...</th>\n",
       "      <th>region</th>\n",
       "      <th>product_id</th>\n",
       "      <th>category</th>\n",
       "      <th>sub_category</th>\n",
       "      <th>product_name</th>\n",
       "      <th>sales</th>\n",
       "      <th>quantity</th>\n",
       "      <th>discount</th>\n",
       "      <th>profit</th>\n",
       "      <th>addressid</th>\n",
       "    </tr>\n",
       "  </thead>\n",
       "  <tbody>\n",
       "    <tr>\n",
       "      <th>0</th>\n",
       "      <td>1</td>\n",
       "      <td>ca-2016-152156</td>\n",
       "      <td>11/8/2016</td>\n",
       "      <td>11/11/2016</td>\n",
       "      <td>second class</td>\n",
       "      <td>cg-12520</td>\n",
       "      <td>claire gute</td>\n",
       "      <td>consumer</td>\n",
       "      <td>united states</td>\n",
       "      <td>henderson</td>\n",
       "      <td>...</td>\n",
       "      <td>south</td>\n",
       "      <td>fur-bo-10001798</td>\n",
       "      <td>furniture</td>\n",
       "      <td>bookcases</td>\n",
       "      <td>bush somerset collection bookcase</td>\n",
       "      <td>261.96</td>\n",
       "      <td>2</td>\n",
       "      <td>0.0</td>\n",
       "      <td>41.9136</td>\n",
       "      <td>1</td>\n",
       "    </tr>\n",
       "    <tr>\n",
       "      <th>1</th>\n",
       "      <td>2</td>\n",
       "      <td>ca-2016-152156</td>\n",
       "      <td>11/8/2016</td>\n",
       "      <td>11/11/2016</td>\n",
       "      <td>second class</td>\n",
       "      <td>cg-12520</td>\n",
       "      <td>claire gute</td>\n",
       "      <td>consumer</td>\n",
       "      <td>united states</td>\n",
       "      <td>henderson</td>\n",
       "      <td>...</td>\n",
       "      <td>south</td>\n",
       "      <td>fur-ch-10000454</td>\n",
       "      <td>furniture</td>\n",
       "      <td>chairs</td>\n",
       "      <td>hon deluxe fabric upholstered stacking chairs,...</td>\n",
       "      <td>731.94</td>\n",
       "      <td>3</td>\n",
       "      <td>0.0</td>\n",
       "      <td>219.5820</td>\n",
       "      <td>1</td>\n",
       "    </tr>\n",
       "  </tbody>\n",
       "</table>\n",
       "<p>2 rows × 22 columns</p>\n",
       "</div>"
      ],
      "text/plain": [
       "   row_id        order_id order_date   ship_date     ship_mode customer_id  \\\n",
       "0       1  ca-2016-152156  11/8/2016  11/11/2016  second class    cg-12520   \n",
       "1       2  ca-2016-152156  11/8/2016  11/11/2016  second class    cg-12520   \n",
       "\n",
       "  customer_name   segment        country       city  ... region  \\\n",
       "0   claire gute  consumer  united states  henderson  ...  south   \n",
       "1   claire gute  consumer  united states  henderson  ...  south   \n",
       "\n",
       "        product_id   category sub_category  \\\n",
       "0  fur-bo-10001798  furniture    bookcases   \n",
       "1  fur-ch-10000454  furniture       chairs   \n",
       "\n",
       "                                        product_name   sales quantity  \\\n",
       "0                  bush somerset collection bookcase  261.96        2   \n",
       "1  hon deluxe fabric upholstered stacking chairs,...  731.94        3   \n",
       "\n",
       "   discount    profit  addressid  \n",
       "0       0.0   41.9136          1  \n",
       "1       0.0  219.5820          1  \n",
       "\n",
       "[2 rows x 22 columns]"
      ]
     },
     "execution_count": 36,
     "metadata": {},
     "output_type": "execute_result"
    }
   ],
   "source": [
    "table.head(2)"
   ]
  },
  {
   "cell_type": "code",
   "execution_count": 37,
   "id": "bd6073f5",
   "metadata": {},
   "outputs": [],
   "source": [
    "products_df = table[['product_id', 'product_name', 'category', 'sub_category']].drop_duplicates()"
   ]
  },
  {
   "cell_type": "code",
   "execution_count": 38,
   "id": "d81de547",
   "metadata": {},
   "outputs": [],
   "source": [
    "products_df .to_csv('products.csv', index=False, encoding='utf-8')"
   ]
  },
  {
   "cell_type": "code",
   "execution_count": 39,
   "id": "a5fbfcd7",
   "metadata": {},
   "outputs": [
    {
     "name": "stdout",
     "output_type": "stream",
     "text": [
      "✅ Daten erfolgreich eingefügt.\n"
     ]
    }
   ],
   "source": [
    "\n",
    "import time\n",
    "\n",
    "\n",
    "\n",
    "# Nur eindeutige Produktzeilen holen\n",
    "products_df = table[['product_id', 'product_name', 'category', 'sub_category']].drop_duplicates()\n",
    "\n",
    "# Verbindung öffnen\n",
    "conn = None\n",
    "max_retries = 5\n",
    "for attempt in range(max_retries):\n",
    "    try:\n",
    "        conn = sqlite3.connect(\"edata.db\")\n",
    "        cur = conn.cursor()\n",
    "\n",
    "        # Tabelle sicherstellen (optional, falls du's brauchst)\n",
    "        cur.execute(\"\"\"\n",
    "        CREATE TABLE IF NOT EXISTS Products (\n",
    "            product_id TEXT PRIMARY KEY,\n",
    "            product_name TEXT NOT NULL,\n",
    "            category TEXT,\n",
    "            sub_category TEXT\n",
    "        );\n",
    "        \"\"\")\n",
    "\n",
    "        # Daten als Liste vorbereiten\n",
    "        data = products_df.values.tolist()\n",
    "\n",
    "        # Einfügen – verhindert Konflikte mit INSERT OR IGNORE\n",
    "        cur.executemany(\"\"\"\n",
    "        INSERT OR IGNORE INTO Products (product_id, product_name, category, sub_category)\n",
    "        VALUES (?, ?, ?, ?)\n",
    "        \"\"\", data)\n",
    "\n",
    "        # Speichern und Verbindung schließen\n",
    "        conn.commit()\n",
    "        conn.close()\n",
    "        print(\"✅ Daten erfolgreich eingefügt.\")\n",
    "        break\n",
    "\n",
    "    except sqlite3.OperationalError as e:\n",
    "        if \"database is locked\" in str(e):\n",
    "            print(f\"⚠️ Datenbank gesperrt, versuche erneut ({attempt+1}/{max_retries})...\")\n",
    "            time.sleep(1)\n",
    "        else:\n",
    "            raise e\n",
    "    finally:\n",
    "        if conn:\n",
    "            try:\n",
    "                conn.close()\n",
    "            except:\n",
    "                pass\n"
   ]
  },
  {
   "cell_type": "code",
   "execution_count": 40,
   "id": "79a308ea",
   "metadata": {},
   "outputs": [],
   "source": [
    "with sqlite3.connect(\"edata.db\") as conn:\n",
    "    cur = conn.cursor()\n",
    "    cur.execute(\"\"\"\n",
    "        CREATE TABLE IF NOT EXISTS Transactions (\n",
    "            order_id TEXT PRIMARY KEY,\n",
    "            order_date TEXT,\n",
    "            ship_date TEXT,\n",
    "            ship_mode TEXT,\n",
    "            customer_id TEXT,\n",
    "            addressid TEXT,    \n",
    "            FOREIGN KEY (customer_id) REFERENCES Location(addressid)\n",
    "        );\n",
    "    \"\"\")\n",
    "    conn.commit()"
   ]
  },
  {
   "cell_type": "code",
   "execution_count": 41,
   "id": "601478ca",
   "metadata": {},
   "outputs": [],
   "source": [
    "# Nur eindeutige Transaktionen holen\n",
    "transactions_df = table[['order_id', 'order_date', 'ship_date', 'ship_mode', 'customer_id', 'addressid']].drop_duplicates()\n",
    "\n",
    "\n",
    "\n",
    "\n",
    "# Beispiel für eine DataFrame mit Transaktionen\n",
    "# Angenommen, transactions_df ist bereits vorhanden\n",
    "\n",
    "# Datum in das passende Format umwandeln\n",
    "transactions_df['order_date'] = pd.to_datetime(transactions_df['order_date'], format='%m/%d/%Y').dt.strftime('%Y-%m-%d')\n",
    "transactions_df['ship_date'] = pd.to_datetime(transactions_df['ship_date'], format='%m/%d/%Y').dt.strftime('%Y-%m-%d')\n",
    "\n",
    "# Nur eindeutige Transaktionen\n",
    "transactions_df = transactions_df[['order_id', 'order_date', 'ship_date', 'ship_mode', 'customer_id','addressid']].drop_duplicates()\n",
    "\n",
    "# Verbindung zur SQLite-Datenbank herstellen\n",
    "with sqlite3.connect(\"edata.db\") as conn:\n",
    "    cur = conn.cursor()\n",
    "    \n",
    "    # Einfügen der Daten in die Tabelle\n",
    "    for _, row in transactions_df.iterrows():\n",
    "        cur.execute(\"\"\"\n",
    "            INSERT OR IGNORE INTO Transactions (order_id, order_date, ship_date, ship_mode, customer_id,addressid)\n",
    "            VALUES (?, ?, ?, ?, ?, ?)\n",
    "        \"\"\", (\n",
    "            row['order_id'],\n",
    "            row['order_date'],\n",
    "            row['ship_date'],\n",
    "            row['ship_mode'],\n",
    "            row['customer_id'],\n",
    "            row['addressid']\n",
    "        ))\n",
    "    conn.commit()\n"
   ]
  },
  {
   "cell_type": "code",
   "execution_count": 42,
   "id": "a3373285",
   "metadata": {},
   "outputs": [],
   "source": [
    "transactions_df.to_csv('transactions.csv', index=False, encoding='utf-8')"
   ]
  },
  {
   "cell_type": "code",
   "execution_count": 43,
   "id": "99ee2b89",
   "metadata": {},
   "outputs": [],
   "source": [
    "with sqlite3.connect(\"edata.db\") as conn:\n",
    "    cur = conn.cursor()\n",
    "\n",
    "    # Überprüfen, ob die Tabelle 'Totalorders' existiert, andernfalls erstellen\n",
    "    cur.execute(\"\"\"\n",
    "        CREATE TABLE IF NOT EXISTS Totalorders (\n",
    "            order_id TEXT PRIMARY KEY,\n",
    "            product_id TEXT,\n",
    "            sales INTEGER,\n",
    "            quantity INTEGER,\n",
    "            discount INTEGER,\n",
    "            profit INTEGER,\n",
    "            FOREIGN KEY (product_id) REFERENCES Products(product_id)\n",
    "        );\n",
    "    \"\"\")\n",
    "\n",
    "    # Um mehrere Zeilen gleichzeitig hinzuzufügen, verwenden wir executemany\n",
    "    totalorders_df = table[['order_id', 'product_id', 'sales', 'quantity', 'discount', 'profit']].values.tolist()\n",
    "    \n",
    "    # Insert der Daten (mit IGNORE, um Duplikate zu vermeiden)\n",
    "    cur.executemany(\"\"\"\n",
    "        INSERT OR IGNORE INTO Totalorders (order_id, product_id, sales, quantity, discount, profit)\n",
    "        VALUES (?, ?, ?, ?, ?, ?)\n",
    "    \"\"\", totalorders_df)\n",
    "    \n",
    "    # Änderungen speichern\n",
    "    conn.commit()"
   ]
  },
  {
   "cell_type": "code",
   "execution_count": null,
   "id": "89ae235d",
   "metadata": {},
   "outputs": [],
   "source": [
    "totalorders_df = table[['order_id', 'product_id', 'sales', 'quantity', 'discount', 'profit']].drop_duplicates()"
   ]
  },
  {
   "cell_type": "code",
   "execution_count": null,
   "id": "31568c4d",
   "metadata": {},
   "outputs": [],
   "source": [
    "cols = ['sales', 'profit', 'discount']\n",
    "\n",
    "#for col in cols:\n",
    "    #df[col] = df[col].astype(str).str.strip().astype(float)\n",
    "\n",
    "\n",
    "#df['quantity'] = df['quantity'].astype(str).str.strip()  # Leerzeichen entfernen\n",
    "\n",
    "\n",
    "# CSV abspeichern (ohne Index)\n",
    "#df.to_csv('totalorders_float.csv', index=False)"
   ]
  },
  {
   "cell_type": "code",
   "execution_count": null,
   "id": "0203e7bd",
   "metadata": {},
   "outputs": [],
   "source": [
    "totalorders_df[cols] = totalorders_df[cols].apply(lambda x: x.astype(str).str.strip().astype(float))"
   ]
  },
  {
   "cell_type": "code",
   "execution_count": null,
   "id": "32c74cf5",
   "metadata": {},
   "outputs": [],
   "source": [
    "totalorders_df['quantity'] = pd.to_numeric(totalorders_df['quantity'].astype(str).str.strip(), errors='coerce').astype('Int64')"
   ]
  },
  {
   "cell_type": "code",
   "execution_count": 45,
   "id": "d31b52ec",
   "metadata": {},
   "outputs": [],
   "source": [
    "totalorders_df.to_csv('totalorders.csv', index=False, encoding='utf-8')"
   ]
  }
 ],
 "metadata": {
  "kernelspec": {
   "display_name": "base",
   "language": "python",
   "name": "python3"
  },
  "language_info": {
   "codemirror_mode": {
    "name": "ipython",
    "version": 3
   },
   "file_extension": ".py",
   "mimetype": "text/x-python",
   "name": "python",
   "nbconvert_exporter": "python",
   "pygments_lexer": "ipython3",
   "version": "3.12.7"
  }
 },
 "nbformat": 4,
 "nbformat_minor": 5
}
