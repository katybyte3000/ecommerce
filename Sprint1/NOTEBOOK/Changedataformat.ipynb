{
 "cells": [
  {
   "cell_type": "markdown",
   "id": "159d5f81",
   "metadata": {},
   "source": [
    "# Umwandeln der Werte von . zu , vonS tring zu float\n",
    " "
   ]
  },
  {
   "cell_type": "code",
   "execution_count": null,
   "id": "b66445d9",
   "metadata": {},
   "outputs": [],
   "source": [
    "# dieser Code kann direkt in das Datat cleaning Notebook integriert werden beim Datenbank erstellen"
   ]
  },
  {
   "cell_type": "code",
   "execution_count": 1,
   "id": "9fa828b0",
   "metadata": {},
   "outputs": [],
   "source": [
    "import pandas as pd\n",
    "\n",
    "# CSV laden (angenommen, Sales-Spalte ist String mit Punkt als Dezimaltrennzeichen)\n",
    "df = pd.read_csv(r'C:\\Users\\cumdi\\Desktop\\Bootcamp Visual Studio\\Modul 2\\Sprint1\\CSV\\totalorders.csv', dtype=str)\n",
    "\n",
    "\n"
   ]
  },
  {
   "cell_type": "code",
   "execution_count": 2,
   "id": "88903901",
   "metadata": {},
   "outputs": [
    {
     "data": {
      "text/html": [
       "<div>\n",
       "<style scoped>\n",
       "    .dataframe tbody tr th:only-of-type {\n",
       "        vertical-align: middle;\n",
       "    }\n",
       "\n",
       "    .dataframe tbody tr th {\n",
       "        vertical-align: top;\n",
       "    }\n",
       "\n",
       "    .dataframe thead th {\n",
       "        text-align: right;\n",
       "    }\n",
       "</style>\n",
       "<table border=\"1\" class=\"dataframe\">\n",
       "  <thead>\n",
       "    <tr style=\"text-align: right;\">\n",
       "      <th></th>\n",
       "      <th>order_id</th>\n",
       "      <th>product_id</th>\n",
       "      <th>sales</th>\n",
       "      <th>quantity</th>\n",
       "      <th>discount</th>\n",
       "      <th>profit</th>\n",
       "    </tr>\n",
       "  </thead>\n",
       "  <tbody>\n",
       "    <tr>\n",
       "      <th>0</th>\n",
       "      <td>ca-2016-152156</td>\n",
       "      <td>fur-bo-10001798</td>\n",
       "      <td>261.96</td>\n",
       "      <td>2</td>\n",
       "      <td>0.0</td>\n",
       "      <td>41.9136</td>\n",
       "    </tr>\n",
       "    <tr>\n",
       "      <th>1</th>\n",
       "      <td>ca-2016-152156</td>\n",
       "      <td>fur-ch-10000454</td>\n",
       "      <td>731.94</td>\n",
       "      <td>3</td>\n",
       "      <td>0.0</td>\n",
       "      <td>219.582</td>\n",
       "    </tr>\n",
       "  </tbody>\n",
       "</table>\n",
       "</div>"
      ],
      "text/plain": [
       "         order_id       product_id   sales quantity discount   profit\n",
       "0  ca-2016-152156  fur-bo-10001798  261.96        2      0.0  41.9136\n",
       "1  ca-2016-152156  fur-ch-10000454  731.94        3      0.0  219.582"
      ]
     },
     "execution_count": 2,
     "metadata": {},
     "output_type": "execute_result"
    }
   ],
   "source": [
    "df.head(2)"
   ]
  },
  {
   "cell_type": "code",
   "execution_count": null,
   "id": "e71d4b23",
   "metadata": {},
   "outputs": [],
   "source": [
    "\n",
    "cols = ['sales', 'profit', 'discount']\n",
    "\n",
    "for col in cols:\n",
    "    df[col] = df[col].astype(str).str.strip().astype(float)\n",
    "\n",
    "\n",
    "df['quantity'] = df['quantity'].astype(str).str.strip()  # Leerzeichen entfernen\n",
    "\n",
    "\n",
    "# CSV abspeichern (ohne Index)\n",
    "df.to_csv('totalorders_float.csv', index=False)"
   ]
  },
  {
   "cell_type": "code",
   "execution_count": 4,
   "id": "1af962fb",
   "metadata": {},
   "outputs": [
    {
     "data": {
      "text/html": [
       "<div>\n",
       "<style scoped>\n",
       "    .dataframe tbody tr th:only-of-type {\n",
       "        vertical-align: middle;\n",
       "    }\n",
       "\n",
       "    .dataframe tbody tr th {\n",
       "        vertical-align: top;\n",
       "    }\n",
       "\n",
       "    .dataframe thead th {\n",
       "        text-align: right;\n",
       "    }\n",
       "</style>\n",
       "<table border=\"1\" class=\"dataframe\">\n",
       "  <thead>\n",
       "    <tr style=\"text-align: right;\">\n",
       "      <th></th>\n",
       "      <th>order_id</th>\n",
       "      <th>product_id</th>\n",
       "      <th>sales</th>\n",
       "      <th>quantity</th>\n",
       "      <th>discount</th>\n",
       "      <th>profit</th>\n",
       "    </tr>\n",
       "  </thead>\n",
       "  <tbody>\n",
       "    <tr>\n",
       "      <th>0</th>\n",
       "      <td>ca-2016-152156</td>\n",
       "      <td>fur-bo-10001798</td>\n",
       "      <td>261.96</td>\n",
       "      <td>2</td>\n",
       "      <td>0.0</td>\n",
       "      <td>41.9136</td>\n",
       "    </tr>\n",
       "    <tr>\n",
       "      <th>1</th>\n",
       "      <td>ca-2016-152156</td>\n",
       "      <td>fur-ch-10000454</td>\n",
       "      <td>731.94</td>\n",
       "      <td>3</td>\n",
       "      <td>0.0</td>\n",
       "      <td>219.5820</td>\n",
       "    </tr>\n",
       "  </tbody>\n",
       "</table>\n",
       "</div>"
      ],
      "text/plain": [
       "         order_id       product_id   sales quantity  discount    profit\n",
       "0  ca-2016-152156  fur-bo-10001798  261.96        2       0.0   41.9136\n",
       "1  ca-2016-152156  fur-ch-10000454  731.94        3       0.0  219.5820"
      ]
     },
     "execution_count": 4,
     "metadata": {},
     "output_type": "execute_result"
    }
   ],
   "source": [
    "df.head(2)"
   ]
  },
  {
   "cell_type": "code",
   "execution_count": 5,
   "id": "de024de2",
   "metadata": {},
   "outputs": [
    {
     "name": "stdout",
     "output_type": "stream",
     "text": [
      "order_id       object\n",
      "product_id     object\n",
      "sales         float64\n",
      "quantity       object\n",
      "discount      float64\n",
      "profit        float64\n",
      "dtype: object\n"
     ]
    }
   ],
   "source": [
    "print(df.dtypes)\n"
   ]
  },
  {
   "cell_type": "code",
   "execution_count": 6,
   "id": "5af91ad7",
   "metadata": {},
   "outputs": [],
   "source": [
    "df['sales'] = df['sales'].astype(float)\n",
    "df['profit'] = df['profit'].astype(float)\n",
    "df['discount'] = df['discount'].astype(float)\n",
    "df['discount'] = df['discount'].astype(float)\n"
   ]
  }
 ],
 "metadata": {
  "kernelspec": {
   "display_name": "base",
   "language": "python",
   "name": "python3"
  },
  "language_info": {
   "codemirror_mode": {
    "name": "ipython",
    "version": 3
   },
   "file_extension": ".py",
   "mimetype": "text/x-python",
   "name": "python",
   "nbconvert_exporter": "python",
   "pygments_lexer": "ipython3",
   "version": "3.12.7"
  }
 },
 "nbformat": 4,
 "nbformat_minor": 5
}
